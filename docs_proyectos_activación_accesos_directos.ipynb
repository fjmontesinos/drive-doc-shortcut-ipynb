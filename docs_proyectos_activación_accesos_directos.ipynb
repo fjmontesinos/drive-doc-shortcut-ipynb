{
  "cells": [
    {
      "cell_type": "markdown",
      "metadata": {
        "id": "JEwQSeikc7Ni"
      },
      "source": [
        "# Drive Downloader Notebook\n",
        "\n",
        "Este cuaderno en Google Colab permite:\n",
        "- Autenticar con tu cuenta de Google Workspace.\n",
        "- Leer un CSV con columnas `version_id`, `version_title`, `ticket_id`, `ticket_title`, `ticket_description`, `ticket_user`, `url`.\n",
        "- Crear una carpeta raíz de proyectos y carpetas para cada proyecto usando ticket_id - ticket_title.\n",
        "- Crear accesos directos a los archivos y carpetas de Google Drive a esas carpetas disponibles en la columna url\n",
        "- Registrar registros sin acceso en un fichero CSV ubicado en Drive\n"
      ]
    },
    {
      "cell_type": "code",
      "metadata": {
        "id": "_jVrC2usc7Nj"
      },
      "source": [
        "# Instalar dependencias\n",
        "!pip install --quiet --upgrade google-auth-oauthlib google-api-python-client"
      ],
      "execution_count": null,
      "outputs": []
    },
    {
      "cell_type": "markdown",
      "source": [
        "## Autenticar con usuario de Google"
      ],
      "metadata": {
        "id": "WzRnKmrWbNZi"
      }
    },
    {
      "cell_type": "code",
      "metadata": {
        "id": "p-UgDOYzc7Nk"
      },
      "source": [
        "# Autenticar con Google Workspace\n",
        "from google.colab import auth\n",
        "auth.authenticate_user()"
      ],
      "execution_count": null,
      "outputs": []
    },
    {
      "cell_type": "code",
      "metadata": {
        "id": "h6T3pRv-c7Nk"
      },
      "source": [
        "# Crear cliente de Google Drive API\n",
        "import google.auth\n",
        "from googleapiclient.discovery import build\n",
        "\n",
        "SCOPES = ['https://www.googleapis.com/auth/drive.readonly']\n",
        "creds, _ = google.auth.default(scopes=SCOPES)\n",
        "drive_service = build('drive', 'v3', credentials=creds)\n",
        "print('Autenticación completada.')"
      ],
      "execution_count": null,
      "outputs": []
    },
    {
      "cell_type": "markdown",
      "source": [
        "## 2. Funciones auxiliares"
      ],
      "metadata": {
        "id": "feTzUJVMbojx"
      }
    },
    {
      "cell_type": "code",
      "metadata": {
        "id": "2PKyLTRnc7Nk"
      },
      "source": [
        "# Funciones auxiliares\n",
        "import re\n",
        "from urllib.parse import urlparse, parse_qs\n",
        "\n",
        "from pathlib import Path\n",
        "from googleapiclient.http import MediaIoBaseDownload\n",
        "import io\n",
        "\n",
        "INVALID_CHARS = r'[<>:\\\"/\\\\|?*]'\n",
        "\n",
        "def sanitize_folder_name(name):\n",
        "    return re.sub(INVALID_CHARS, '_', name)\n",
        "\n",
        "def extract_drive_id(url: str) -> str:\n",
        "    \"\"\"\n",
        "    Extrae el ID de Drive de URLs de distintos formatos, incluyendo:\n",
        "    - https://drive.google.com/open?id=ID\n",
        "    - https://drive.google.com/file/d/ID/view\n",
        "    - https://drive.google.com/drive/folders/ID\n",
        "    - https://docs.google.com/document/d/ID/edit\n",
        "    \"\"\"\n",
        "    # 1) Intentar extraer “id” de la query (por ejemplo /open?id=…)\n",
        "    parsed = urlparse(url)\n",
        "    qs = parse_qs(parsed.query)\n",
        "    if 'id' in qs and qs['id']:\n",
        "        return qs['id'][0]\n",
        "\n",
        "    # 2) Limpiar parámetros (todo tras ‘?’) y buscar en el path\n",
        "    clean = url.split('?', 1)[0]\n",
        "    patterns = [\n",
        "        r'/d/([A-Za-z0-9_-]{10,})',      # /file/d/ID\n",
        "        r'folders/([A-Za-z0-9_-]{10,})', # /drive/folders/ID\n",
        "        r'document/d/([A-Za-z0-9_-]{10,})' # /document/d/ID\n",
        "    ]\n",
        "    for pat in patterns:\n",
        "        m = re.search(pat, clean)\n",
        "        if m:\n",
        "            return m.group(1)\n",
        "\n",
        "    raise ValueError(f\"No pude extraer Drive ID de: {url}\")\n"
      ],
      "execution_count": 17,
      "outputs": []
    },
    {
      "cell_type": "markdown",
      "source": [
        "## 3. Cargar el csv con las url de los recursos de cada proyecto"
      ],
      "metadata": {
        "id": "v29H0ZA3bvQN"
      }
    },
    {
      "cell_type": "code",
      "metadata": {
        "id": "GjxmBPSEc7Nk"
      },
      "source": [
        "# Subir y cargar el CSV de entrada\n",
        "from google.colab import files\n",
        "uploaded = files.upload()\n",
        "# Asume que el CSV se llama 'versiones.csv'\n",
        "csv_path = list(uploaded.keys())[0]\n",
        "print(f\"CSV cargado: {csv_path}\")"
      ],
      "execution_count": null,
      "outputs": []
    },
    {
      "cell_type": "markdown",
      "source": [
        "## 4. Mapear drive con la carpeta /content/drive\n",
        "\n",
        "El objetivo es que todo lo que se escriba en local se sincronice con Drive"
      ],
      "metadata": {
        "id": "IsTHWDozb3u_"
      }
    },
    {
      "cell_type": "code",
      "metadata": {
        "id": "SfPSA-HJc7Nl"
      },
      "source": [
        "# Leer datos y preparar carpeta raíz\n",
        "import pandas as pd\n",
        "df = pd.read_csv(csv_path, encoding='utf-8-sig')\n",
        "\n",
        "# 1) Monta tu Drive y vuelve a mapear “proyectos” dentro de él\n",
        "from google.colab import drive\n",
        "drive.mount('/content/drive', force_remount=True)\n",
        "\n",
        "import os\n",
        "# Ajusta la ruta bajo “Mi unidad” a la carpeta que quieres usar\n",
        "# (debes tener un atajo en Mi unidad a la carpeta cuyo ID es 1AbCdEfGhIjKlMnOpQrStUvWxYz012)\n",
        "root_dir = '/content/drive/Shareddrives/tu-carpeta'\n",
        "os.makedirs(root_dir, exist_ok=True)\n",
        "\n",
        "no_access = []\n",
        "print('Datos cargados. Proyectos en:', root_dir)"
      ],
      "execution_count": null,
      "outputs": []
    },
    {
      "cell_type": "markdown",
      "source": [
        "## 5. Procesar el fichero csv [Ejecución]\n",
        "\n",
        "Procesa el fichero csv\n",
        "Crea las carpetas de proyecto\n",
        "Crea los accesos directos de todos las url que forman parte de la documentación del proyecto"
      ],
      "metadata": {
        "id": "M3f0BQYdde21"
      }
    },
    {
      "cell_type": "code",
      "metadata": {
        "id": "VQUzj7otc7Nl"
      },
      "source": [
        "import os\n",
        "from googleapiclient.errors import HttpError\n",
        "\n",
        "# Directorio raíz donde vive la carpeta de proyectos en Drive (montada o con SDK)\n",
        "# si usas symlink, root_dir = '/content/proyectos'\n",
        "# root_dir = '/content/proyectos'\n",
        "\n",
        "# Ruta completa al fichero de log dentro de esa carpeta\n",
        "log_path = os.path.join(root_dir, 'urls-sin-acceso.txt')\n",
        "\n",
        "# Inicializa el log con cabecera\n",
        "with open(log_path, 'w', encoding='utf-8') as f:\n",
        "    f.write(','.join(df.columns.tolist()) + '\\n')\n",
        "\n",
        "# ID de la carpeta raíz en tu Drive donde van las carpetas de proyecto\n",
        "ROOT_FOLDER_ID = '1eeK_v4NWU-1liJso2d-j8Yqi1Aw_7r8a'\n",
        "\n",
        "# Guarda los folder_ids de proyecto para no recrearlos en cada iteración\n",
        "project_folders = {}\n",
        "\n",
        "# Recorre cada URL y crea un shortcut en Drive\n",
        "for _, row in df.iterrows():\n",
        "    proj_id    = row['ticket_id']\n",
        "    proj_title = row['ticket_title']\n",
        "    url        = row['url']\n",
        "\n",
        "    # 1) Crear (o recuperar) carpeta de proyecto en Drive\n",
        "    key = str(proj_id)\n",
        "    if key not in project_folders:\n",
        "        body = {\n",
        "            'name'     : sanitize_folder_name(f\"{proj_id} - {proj_title}\"),\n",
        "            'mimeType' : 'application/vnd.google-apps.folder',\n",
        "            'parents'  : [ROOT_FOLDER_ID]\n",
        "        }\n",
        "        meta = drive_service.files().create(\n",
        "            body=body,\n",
        "            supportsAllDrives=True,\n",
        "            fields='id'\n",
        "        ).execute()\n",
        "        project_folders[key] = meta['id']\n",
        "\n",
        "    proj_folder_id = project_folders[key]\n",
        "\n",
        "    # 2) Extraer el ID de Drive del URL\n",
        "    try:\n",
        "        target_id = extract_drive_id(url)\n",
        "    except Exception as e:\n",
        "        print(f\"❌ No pude extraer ID de {url}: {e}\")\n",
        "        continue\n",
        "\n",
        "    # 3) Leer el nombre real del target y usarlo\n",
        "    try:\n",
        "        target_meta = drive_service.files().get(\n",
        "            fileId=target_id,\n",
        "            fields='name',\n",
        "            supportsAllDrives=True\n",
        "        ).execute()\n",
        "        target_name = target_meta.get('name', target_id)\n",
        "    except HttpError as e:\n",
        "        if e.status_code in (403, 404):\n",
        "            print(f\"❌ Sin acceso a metadata de {url}, lo registro y continúo.\")\n",
        "            with open(log_path, 'a', encoding='utf-8') as log:\n",
        "                log.write(','.join(str(row[col]) for col in df.columns) + '\\n')\n",
        "            continue\n",
        "        else:\n",
        "            raise\n",
        "\n",
        "    safe_name = sanitize_folder_name(target_name)\n",
        "\n",
        "    shortcut_body = {\n",
        "        'name'           : safe_name,\n",
        "        'mimeType'       : 'application/vnd.google-apps.shortcut',\n",
        "        'shortcutDetails': {'targetId': target_id},\n",
        "        'parents'        : [proj_folder_id]\n",
        "    }\n",
        "\n",
        "    try:\n",
        "        sc = drive_service.files().create(\n",
        "            body=shortcut_body,\n",
        "            supportsAllDrives=True,\n",
        "            fields='id,name'\n",
        "        ).execute()\n",
        "        print(f\"🔗 Shortcut creado: {sc['name']} → {url}\")\n",
        "    except HttpError as e:\n",
        "        if e.status_code == 403:\n",
        "            print(f\"❌ Sin acceso creando shortcut para {url}, lo registro y continúo.\")\n",
        "            with open(log_path, 'a', encoding='utf-8') as log:\n",
        "                log.write(','.join(str(row[col]) for col in df.columns) + '\\n')\n",
        "            continue\n",
        "        else:\n",
        "            raise\n",
        "\n"
      ],
      "execution_count": null,
      "outputs": []
    },
    {
      "cell_type": "markdown",
      "source": [
        "## 6. Dar acceso modo Lector - Funciones Auxiliares\n",
        "\n",
        "Recorre todas las subcarpetas de documentación y le da acceso a una lista de\n",
        "usuarios predefinida con rol Lector"
      ],
      "metadata": {
        "id": "-axWxLtus-Al"
      }
    },
    {
      "cell_type": "code",
      "source": [
        "from googleapiclient.errors import HttpError\n",
        "\n",
        "def share_with_user(service, file_id: str, user_email: str):\n",
        "    \"\"\"\n",
        "    Comprueba si user_email ya tiene permiso reader/writer/owner en file_id.\n",
        "    Si no, crea permiso reader.\n",
        "    \"\"\"\n",
        "    try:\n",
        "        resp = service.permissions().list(\n",
        "            fileId=file_id,\n",
        "            fields='permissions(emailAddress,role)',\n",
        "            supportsAllDrives=True\n",
        "        ).execute()\n",
        "        for p in resp.get('permissions', []):\n",
        "            if p.get('emailAddress') == user_email and p.get('role') in ('reader','writer','owner'):\n",
        "                print(f\"🔓 Ya tenía permiso sobre {file_id} el usuario {user_email}\")\n",
        "                return\n",
        "        service.permissions().create(\n",
        "            fileId=file_id,\n",
        "            body={'type':'user','role':'reader','emailAddress':user_email},\n",
        "            supportsAllDrives=True,\n",
        "            sendNotificationEmail=False\n",
        "        ).execute()\n",
        "        print(f\"✅ Compartido {file_id} con {user_email}\")\n",
        "    except HttpError as e:\n",
        "        print(f\"⚠️ No pude compartir {file_id} con {user_email}: HTTP {e.resp.status}\")\n",
        "\n",
        "def share_shortcuts_in_subfolders(service, root_folder_id: str, user_emails: list[str]):\n",
        "    \"\"\"\n",
        "    Recorre todas las subcarpetas inmediatas de root_folder_id (ordenadas ascendente por nombre),\n",
        "    y para cada shortcut en ellas (no importa si apuntan a archivo o carpeta):\n",
        "      - Si shortcut.targetMimeType es carpeta, lo omite.\n",
        "      - Comparte el recurso de destino y el propio shortcut con user_emails.\n",
        "    \"\"\"\n",
        "    # 1) Recuperar *todas* las subcarpetas inmediatas, no solo la primera página\n",
        "    subfolders = []\n",
        "    page_token = None\n",
        "    while True:\n",
        "        resp = service.files().list(\n",
        "            q=f\"'{root_folder_id}' in parents and mimeType='application/vnd.google-apps.folder' and trashed=false\",\n",
        "            spaces='drive',\n",
        "            corpora='allDrives',\n",
        "            supportsAllDrives=True,\n",
        "            includeItemsFromAllDrives=True,\n",
        "            fields='nextPageToken, files(id, name)',\n",
        "            pageSize=500,            # opcional: hasta 1000\n",
        "            pageToken=page_token\n",
        "        ).execute()\n",
        "        subfolders.extend(resp.get('files', []))\n",
        "        page_token = resp.get('nextPageToken')\n",
        "        if not page_token:\n",
        "            break\n",
        "\n",
        "    # 2) Ordenar ascendente por 'name' (case-insensitive)\n",
        "    subfolders.sort(key=lambda f: f['name'].lower())\n",
        "\n",
        "    # 3) Para cada subcarpeta, procesar sus shortcuts\n",
        "    for sub in subfolders:\n",
        "        folder_id = sub['id']\n",
        "        folder_name = sub['name']\n",
        "        print(f\"▶ Procesando shortcuts en subcarpeta «{folder_name}» ({folder_id})\")\n",
        "\n",
        "        page_token = None\n",
        "        while True:\n",
        "            r = service.files().list(\n",
        "                q=f\"'{folder_id}' in parents and trashed=false\",\n",
        "                spaces='drive',\n",
        "                corpora='allDrives',\n",
        "                supportsAllDrives=True,\n",
        "                includeItemsFromAllDrives=True,\n",
        "                fields='nextPageToken, files(id, name, mimeType, shortcutDetails)',\n",
        "                pageToken=page_token\n",
        "            ).execute()\n",
        "\n",
        "            for f in r.get('files', []):\n",
        "                if f['mimeType'] != 'application/vnd.google-apps.shortcut':\n",
        "                    continue\n",
        "\n",
        "                sid   = f['id']\n",
        "                sname = f['name']\n",
        "                sd    = f.get('shortcutDetails', {})\n",
        "                target_id   = sd.get('targetId')\n",
        "                target_mime = sd.get('targetMimeType')\n",
        "\n",
        "                if not target_id:\n",
        "                    print(f\"⚠️ Atajo inválido sin target: {sname} ({sid})\")\n",
        "                    continue\n",
        "                if target_mime == 'application/vnd.google-apps.folder':\n",
        "                    print(f\"📂 Compartiendo carpeta apuntada por atajo «{sname}» → {target_id}\")\n",
        "                    for user in user_emails:\n",
        "                        # comparte la carpeta en sí, sin entrar a listar su contenido\n",
        "                        share_with_user(service, target_id, user)\n",
        "                    # no recursamos en su interior\n",
        "                    continue\n",
        "\n",
        "                print(f\"🔗 Atajo «{sname}» → {target_id}\")\n",
        "\n",
        "                # Compartir destino y atajo\n",
        "                for user in user_emails:\n",
        "                    share_with_user(service, target_id, user)\n",
        "                    share_with_user(service, sid,       user)\n",
        "\n",
        "            page_token = r.get('nextPageToken')\n",
        "            if not page_token:\n",
        "                break\n"
      ],
      "metadata": {
        "id": "1PBiLeNEs9pZ"
      },
      "execution_count": 12,
      "outputs": []
    },
    {
      "cell_type": "markdown",
      "source": [
        "## 7. Dar acceso en Modo Lector - [ Ejecución ]"
      ],
      "metadata": {
        "id": "29JoiJ4MejW3"
      }
    },
    {
      "cell_type": "code",
      "source": [
        "# ─── Uso ───\n",
        "# Define tu carpeta y lista de usuarios\n",
        "ROOT_FOLDER_ID   = '1AbCdEfGhIjKlMnOpQrStUvWxYz012'\n",
        "USERS       = ['direccion1@dominio.es', 'direccion2@dominio.es']\n",
        "\n",
        "share_shortcuts_in_subfolders(drive_service, ROOT_FOLDER_ID, USERS)\n"
      ],
      "metadata": {
        "id": "xNDQnd6rtObo"
      },
      "execution_count": null,
      "outputs": []
    }
  ],
  "metadata": {
    "colab": {
      "provenance": []
    },
    "kernelspec": {
      "display_name": "Python 3",
      "language": "python",
      "name": "python3"
    },
    "language_info": {
      "name": "python"
    }
  },
  "nbformat": 4,
  "nbformat_minor": 0
}
